{
 "cells": [
  {
   "cell_type": "code",
   "execution_count": 1,
   "id": "72631fef",
   "metadata": {},
   "outputs": [],
   "source": [
    "import pandas as pd"
   ]
  },
  {
   "cell_type": "code",
   "execution_count": 2,
   "id": "44125a88",
   "metadata": {},
   "outputs": [
    {
     "data": {
      "text/html": [
       "<div>\n",
       "<style scoped>\n",
       "    .dataframe tbody tr th:only-of-type {\n",
       "        vertical-align: middle;\n",
       "    }\n",
       "\n",
       "    .dataframe tbody tr th {\n",
       "        vertical-align: top;\n",
       "    }\n",
       "\n",
       "    .dataframe thead th {\n",
       "        text-align: right;\n",
       "    }\n",
       "</style>\n",
       "<table border=\"1\" class=\"dataframe\">\n",
       "  <thead>\n",
       "    <tr style=\"text-align: right;\">\n",
       "      <th></th>\n",
       "      <th>CarNumber</th>\n",
       "      <th>Refund</th>\n",
       "      <th>Fines</th>\n",
       "      <th>Make</th>\n",
       "      <th>Model</th>\n",
       "      <th>Year</th>\n",
       "    </tr>\n",
       "  </thead>\n",
       "  <tbody>\n",
       "    <tr>\n",
       "      <th>0</th>\n",
       "      <td>Y163O8161RUS</td>\n",
       "      <td>2</td>\n",
       "      <td>3200.0</td>\n",
       "      <td>Ford</td>\n",
       "      <td>Focus</td>\n",
       "      <td>1989</td>\n",
       "    </tr>\n",
       "    <tr>\n",
       "      <th>1</th>\n",
       "      <td>E432XX77RUS</td>\n",
       "      <td>1</td>\n",
       "      <td>6500.0</td>\n",
       "      <td>Toyota</td>\n",
       "      <td>Camry</td>\n",
       "      <td>1995</td>\n",
       "    </tr>\n",
       "    <tr>\n",
       "      <th>2</th>\n",
       "      <td>7184TT36RUS</td>\n",
       "      <td>1</td>\n",
       "      <td>2100.0</td>\n",
       "      <td>Ford</td>\n",
       "      <td>Focus</td>\n",
       "      <td>1984</td>\n",
       "    </tr>\n",
       "    <tr>\n",
       "      <th>3</th>\n",
       "      <td>X582HE161RUS</td>\n",
       "      <td>2</td>\n",
       "      <td>2000.0</td>\n",
       "      <td>Ford</td>\n",
       "      <td>Focus</td>\n",
       "      <td>2015</td>\n",
       "    </tr>\n",
       "    <tr>\n",
       "      <th>4</th>\n",
       "      <td>92918M178RUS</td>\n",
       "      <td>1</td>\n",
       "      <td>5700.0</td>\n",
       "      <td>Ford</td>\n",
       "      <td>Focus</td>\n",
       "      <td>2014</td>\n",
       "    </tr>\n",
       "    <tr>\n",
       "      <th>...</th>\n",
       "      <td>...</td>\n",
       "      <td>...</td>\n",
       "      <td>...</td>\n",
       "      <td>...</td>\n",
       "      <td>...</td>\n",
       "      <td>...</td>\n",
       "    </tr>\n",
       "    <tr>\n",
       "      <th>930</th>\n",
       "      <td>NaN</td>\n",
       "      <td>1</td>\n",
       "      <td>8594.6</td>\n",
       "      <td>Ford</td>\n",
       "      <td>Focus</td>\n",
       "      <td>1989</td>\n",
       "    </tr>\n",
       "    <tr>\n",
       "      <th>931</th>\n",
       "      <td>NaN</td>\n",
       "      <td>1</td>\n",
       "      <td>500.0</td>\n",
       "      <td>Ford</td>\n",
       "      <td>Focus</td>\n",
       "      <td>2001</td>\n",
       "    </tr>\n",
       "    <tr>\n",
       "      <th>932</th>\n",
       "      <td>NaN</td>\n",
       "      <td>1</td>\n",
       "      <td>10400.0</td>\n",
       "      <td>Ford</td>\n",
       "      <td>Focus</td>\n",
       "      <td>2004</td>\n",
       "    </tr>\n",
       "    <tr>\n",
       "      <th>933</th>\n",
       "      <td>NaN</td>\n",
       "      <td>2</td>\n",
       "      <td>2700.0</td>\n",
       "      <td>BMW</td>\n",
       "      <td>Focus</td>\n",
       "      <td>2012</td>\n",
       "    </tr>\n",
       "    <tr>\n",
       "      <th>934</th>\n",
       "      <td>NaN</td>\n",
       "      <td>1</td>\n",
       "      <td>7000.0</td>\n",
       "      <td>Ford</td>\n",
       "      <td>Focus</td>\n",
       "      <td>1984</td>\n",
       "    </tr>\n",
       "  </tbody>\n",
       "</table>\n",
       "<p>935 rows × 6 columns</p>\n",
       "</div>"
      ],
      "text/plain": [
       "        CarNumber  Refund    Fines    Make  Model  Year\n",
       "0    Y163O8161RUS       2   3200.0    Ford  Focus  1989\n",
       "1     E432XX77RUS       1   6500.0  Toyota  Camry  1995\n",
       "2     7184TT36RUS       1   2100.0    Ford  Focus  1984\n",
       "3    X582HE161RUS       2   2000.0    Ford  Focus  2015\n",
       "4    92918M178RUS       1   5700.0    Ford  Focus  2014\n",
       "..            ...     ...      ...     ...    ...   ...\n",
       "930           NaN       1   8594.6    Ford  Focus  1989\n",
       "931           NaN       1    500.0    Ford  Focus  2001\n",
       "932           NaN       1  10400.0    Ford  Focus  2004\n",
       "933           NaN       2   2700.0     BMW  Focus  2012\n",
       "934           NaN       1   7000.0    Ford  Focus  1984\n",
       "\n",
       "[935 rows x 6 columns]"
      ]
     },
     "execution_count": 2,
     "metadata": {},
     "output_type": "execute_result"
    }
   ],
   "source": [
    "df = pd.read_csv('../data/fines.csv')\n",
    "df"
   ]
  },
  {
   "cell_type": "markdown",
   "id": "7224452f",
   "metadata": {},
   "source": [
    "## Во всех следующих подзадачах нужно рассчитать штрафы/возврат*год для каждой строкй строки, создать новый столбец с рассчитанными данными и измерить время с помощью timeit в ячейке"
   ]
  },
  {
   "cell_type": "markdown",
   "id": "bf19ce13",
   "metadata": {},
   "source": [
    "Сначала рассчитаем обычным циклом с методом append()"
   ]
  },
  {
   "cell_type": "code",
   "execution_count": 3,
   "id": "8ace5040",
   "metadata": {},
   "outputs": [
    {
     "name": "stdout",
     "output_type": "stream",
     "text": [
      "CPU times: user 230 ms, sys: 3.71 ms, total: 234 ms\n",
      "Wall time: 237 ms\n"
     ]
    }
   ],
   "source": [
    "%%time\n",
    "new_col = []\n",
    "\n",
    "for i in range(0, len(df)):\n",
    "    new_col.append(df.iloc[i]['Fines'] / (df.iloc[i]['Refund'] * df.iloc[i]['Year']))\n",
    "\n",
    "df['Fines / Refund * Year'] = new_col"
   ]
  },
  {
   "cell_type": "code",
   "execution_count": 4,
   "id": "4486f9f3",
   "metadata": {},
   "outputs": [
    {
     "data": {
      "text/html": [
       "<div>\n",
       "<style scoped>\n",
       "    .dataframe tbody tr th:only-of-type {\n",
       "        vertical-align: middle;\n",
       "    }\n",
       "\n",
       "    .dataframe tbody tr th {\n",
       "        vertical-align: top;\n",
       "    }\n",
       "\n",
       "    .dataframe thead th {\n",
       "        text-align: right;\n",
       "    }\n",
       "</style>\n",
       "<table border=\"1\" class=\"dataframe\">\n",
       "  <thead>\n",
       "    <tr style=\"text-align: right;\">\n",
       "      <th></th>\n",
       "      <th>CarNumber</th>\n",
       "      <th>Refund</th>\n",
       "      <th>Fines</th>\n",
       "      <th>Make</th>\n",
       "      <th>Model</th>\n",
       "      <th>Year</th>\n",
       "      <th>Fines / Refund * Year</th>\n",
       "    </tr>\n",
       "  </thead>\n",
       "  <tbody>\n",
       "    <tr>\n",
       "      <th>0</th>\n",
       "      <td>Y163O8161RUS</td>\n",
       "      <td>2</td>\n",
       "      <td>3200.0</td>\n",
       "      <td>Ford</td>\n",
       "      <td>Focus</td>\n",
       "      <td>1989</td>\n",
       "      <td>0.804424</td>\n",
       "    </tr>\n",
       "    <tr>\n",
       "      <th>1</th>\n",
       "      <td>E432XX77RUS</td>\n",
       "      <td>1</td>\n",
       "      <td>6500.0</td>\n",
       "      <td>Toyota</td>\n",
       "      <td>Camry</td>\n",
       "      <td>1995</td>\n",
       "      <td>3.258145</td>\n",
       "    </tr>\n",
       "    <tr>\n",
       "      <th>2</th>\n",
       "      <td>7184TT36RUS</td>\n",
       "      <td>1</td>\n",
       "      <td>2100.0</td>\n",
       "      <td>Ford</td>\n",
       "      <td>Focus</td>\n",
       "      <td>1984</td>\n",
       "      <td>1.058468</td>\n",
       "    </tr>\n",
       "    <tr>\n",
       "      <th>3</th>\n",
       "      <td>X582HE161RUS</td>\n",
       "      <td>2</td>\n",
       "      <td>2000.0</td>\n",
       "      <td>Ford</td>\n",
       "      <td>Focus</td>\n",
       "      <td>2015</td>\n",
       "      <td>0.496278</td>\n",
       "    </tr>\n",
       "    <tr>\n",
       "      <th>4</th>\n",
       "      <td>92918M178RUS</td>\n",
       "      <td>1</td>\n",
       "      <td>5700.0</td>\n",
       "      <td>Ford</td>\n",
       "      <td>Focus</td>\n",
       "      <td>2014</td>\n",
       "      <td>2.830189</td>\n",
       "    </tr>\n",
       "    <tr>\n",
       "      <th>...</th>\n",
       "      <td>...</td>\n",
       "      <td>...</td>\n",
       "      <td>...</td>\n",
       "      <td>...</td>\n",
       "      <td>...</td>\n",
       "      <td>...</td>\n",
       "      <td>...</td>\n",
       "    </tr>\n",
       "    <tr>\n",
       "      <th>930</th>\n",
       "      <td>NaN</td>\n",
       "      <td>1</td>\n",
       "      <td>8594.6</td>\n",
       "      <td>Ford</td>\n",
       "      <td>Focus</td>\n",
       "      <td>1989</td>\n",
       "      <td>4.321066</td>\n",
       "    </tr>\n",
       "    <tr>\n",
       "      <th>931</th>\n",
       "      <td>NaN</td>\n",
       "      <td>1</td>\n",
       "      <td>500.0</td>\n",
       "      <td>Ford</td>\n",
       "      <td>Focus</td>\n",
       "      <td>2001</td>\n",
       "      <td>0.249875</td>\n",
       "    </tr>\n",
       "    <tr>\n",
       "      <th>932</th>\n",
       "      <td>NaN</td>\n",
       "      <td>1</td>\n",
       "      <td>10400.0</td>\n",
       "      <td>Ford</td>\n",
       "      <td>Focus</td>\n",
       "      <td>2004</td>\n",
       "      <td>5.189621</td>\n",
       "    </tr>\n",
       "    <tr>\n",
       "      <th>933</th>\n",
       "      <td>NaN</td>\n",
       "      <td>2</td>\n",
       "      <td>2700.0</td>\n",
       "      <td>BMW</td>\n",
       "      <td>Focus</td>\n",
       "      <td>2012</td>\n",
       "      <td>0.670974</td>\n",
       "    </tr>\n",
       "    <tr>\n",
       "      <th>934</th>\n",
       "      <td>NaN</td>\n",
       "      <td>1</td>\n",
       "      <td>7000.0</td>\n",
       "      <td>Ford</td>\n",
       "      <td>Focus</td>\n",
       "      <td>1984</td>\n",
       "      <td>3.528226</td>\n",
       "    </tr>\n",
       "  </tbody>\n",
       "</table>\n",
       "<p>935 rows × 7 columns</p>\n",
       "</div>"
      ],
      "text/plain": [
       "        CarNumber  Refund    Fines    Make  Model  Year  Fines / Refund * Year\n",
       "0    Y163O8161RUS       2   3200.0    Ford  Focus  1989               0.804424\n",
       "1     E432XX77RUS       1   6500.0  Toyota  Camry  1995               3.258145\n",
       "2     7184TT36RUS       1   2100.0    Ford  Focus  1984               1.058468\n",
       "3    X582HE161RUS       2   2000.0    Ford  Focus  2015               0.496278\n",
       "4    92918M178RUS       1   5700.0    Ford  Focus  2014               2.830189\n",
       "..            ...     ...      ...     ...    ...   ...                    ...\n",
       "930           NaN       1   8594.6    Ford  Focus  1989               4.321066\n",
       "931           NaN       1    500.0    Ford  Focus  2001               0.249875\n",
       "932           NaN       1  10400.0    Ford  Focus  2004               5.189621\n",
       "933           NaN       2   2700.0     BMW  Focus  2012               0.670974\n",
       "934           NaN       1   7000.0    Ford  Focus  1984               3.528226\n",
       "\n",
       "[935 rows x 7 columns]"
      ]
     },
     "execution_count": 4,
     "metadata": {},
     "output_type": "execute_result"
    }
   ],
   "source": [
    "df"
   ]
  },
  {
   "cell_type": "markdown",
   "id": "f0c2c868",
   "metadata": {},
   "source": [
    "## Метод iterrows()"
   ]
  },
  {
   "cell_type": "code",
   "execution_count": 5,
   "id": "721a70d1",
   "metadata": {},
   "outputs": [
    {
     "name": "stdout",
     "output_type": "stream",
     "text": [
      "CPU times: user 56.2 ms, sys: 2.66 ms, total: 58.8 ms\n",
      "Wall time: 60.5 ms\n"
     ]
    }
   ],
   "source": [
    "%%time\n",
    "new_col = []\n",
    "\n",
    "for index, row in df.iterrows():\n",
    "    new_col.append(row['Fines'] / (row['Refund'] * row['Year']))\n",
    "\n",
    "df['Fines / Refund * Year'] = new_col"
   ]
  },
  {
   "cell_type": "markdown",
   "id": "62e43c78",
   "metadata": {},
   "source": [
    "## С помощью apply() и лямбда-функции"
   ]
  },
  {
   "cell_type": "code",
   "execution_count": 6,
   "id": "14479e03",
   "metadata": {},
   "outputs": [
    {
     "name": "stdout",
     "output_type": "stream",
     "text": [
      "CPU times: user 13.1 ms, sys: 1.33 ms, total: 14.4 ms\n",
      "Wall time: 13.5 ms\n"
     ]
    }
   ],
   "source": [
    "%%time\n",
    "df['Fines / Refund * Year'] = df.apply(\n",
    "    lambda row: row['Fines'] / (row['Refund'] * row['Year']), axis=1\n",
    "    )"
   ]
  },
  {
   "cell_type": "markdown",
   "id": "b8f0b11a",
   "metadata": {},
   "source": [
    "## Используя объекты Series из датафрейма"
   ]
  },
  {
   "cell_type": "code",
   "execution_count": 7,
   "id": "33dd8f53",
   "metadata": {},
   "outputs": [
    {
     "name": "stdout",
     "output_type": "stream",
     "text": [
      "CPU times: user 899 µs, sys: 100 µs, total: 999 µs\n",
      "Wall time: 969 µs\n"
     ]
    }
   ],
   "source": [
    "%%time\n",
    "df['Fines / Refund * Year'] = df['Fines'] / (df['Refund'] * df['Year'])"
   ]
  },
  {
   "cell_type": "code",
   "execution_count": 8,
   "id": "77e0facd",
   "metadata": {},
   "outputs": [
    {
     "name": "stdout",
     "output_type": "stream",
     "text": [
      "CPU times: user 1.09 ms, sys: 480 µs, total: 1.57 ms\n",
      "Wall time: 1.32 ms\n"
     ]
    }
   ],
   "source": [
    "%%time\n",
    "df['Fines / Refund * Year'] = df['Fines'].values / (\n",
    "    df['Refund'].values * df['Year'].values\n",
    "    )"
   ]
  },
  {
   "cell_type": "markdown",
   "id": "526505a8",
   "metadata": {},
   "source": [
    "## Индексация"
   ]
  },
  {
   "cell_type": "code",
   "execution_count": 9,
   "id": "74de8db9",
   "metadata": {},
   "outputs": [
    {
     "name": "stdout",
     "output_type": "stream",
     "text": [
      "CPU times: user 979 µs, sys: 91 µs, total: 1.07 ms\n",
      "Wall time: 1.01 ms\n"
     ]
    },
    {
     "data": {
      "text/html": [
       "<div>\n",
       "<style scoped>\n",
       "    .dataframe tbody tr th:only-of-type {\n",
       "        vertical-align: middle;\n",
       "    }\n",
       "\n",
       "    .dataframe tbody tr th {\n",
       "        vertical-align: top;\n",
       "    }\n",
       "\n",
       "    .dataframe thead th {\n",
       "        text-align: right;\n",
       "    }\n",
       "</style>\n",
       "<table border=\"1\" class=\"dataframe\">\n",
       "  <thead>\n",
       "    <tr style=\"text-align: right;\">\n",
       "      <th></th>\n",
       "      <th>CarNumber</th>\n",
       "      <th>Refund</th>\n",
       "      <th>Fines</th>\n",
       "      <th>Make</th>\n",
       "      <th>Model</th>\n",
       "      <th>Year</th>\n",
       "      <th>Fines / Refund * Year</th>\n",
       "    </tr>\n",
       "  </thead>\n",
       "  <tbody>\n",
       "    <tr>\n",
       "      <th>190</th>\n",
       "      <td>M0299X197RUS</td>\n",
       "      <td>2</td>\n",
       "      <td>67200.0</td>\n",
       "      <td>Ford</td>\n",
       "      <td>Focus</td>\n",
       "      <td>1995</td>\n",
       "      <td>16.842105</td>\n",
       "    </tr>\n",
       "    <tr>\n",
       "      <th>445</th>\n",
       "      <td>M0299X197RUS</td>\n",
       "      <td>2</td>\n",
       "      <td>19200.0</td>\n",
       "      <td>Ford</td>\n",
       "      <td>Focus</td>\n",
       "      <td>2005</td>\n",
       "      <td>4.788030</td>\n",
       "    </tr>\n",
       "    <tr>\n",
       "      <th>473</th>\n",
       "      <td>M0299X197RUS</td>\n",
       "      <td>1</td>\n",
       "      <td>9600.0</td>\n",
       "      <td>Ford</td>\n",
       "      <td>Focus</td>\n",
       "      <td>2007</td>\n",
       "      <td>4.783259</td>\n",
       "    </tr>\n",
       "    <tr>\n",
       "      <th>725</th>\n",
       "      <td>M0299X197RUS</td>\n",
       "      <td>2</td>\n",
       "      <td>3000.0</td>\n",
       "      <td>Ford</td>\n",
       "      <td>Focus</td>\n",
       "      <td>1989</td>\n",
       "      <td>0.754148</td>\n",
       "    </tr>\n",
       "  </tbody>\n",
       "</table>\n",
       "</div>"
      ],
      "text/plain": [
       "        CarNumber  Refund    Fines  Make  Model  Year  Fines / Refund * Year\n",
       "190  M0299X197RUS       2  67200.0  Ford  Focus  1995              16.842105\n",
       "445  M0299X197RUS       2  19200.0  Ford  Focus  2005               4.788030\n",
       "473  M0299X197RUS       1   9600.0  Ford  Focus  2007               4.783259\n",
       "725  M0299X197RUS       2   3000.0  Ford  Focus  1989               0.754148"
      ]
     },
     "execution_count": 9,
     "metadata": {},
     "output_type": "execute_result"
    }
   ],
   "source": [
    "%%time\n",
    "df.loc[df['CarNumber'] == 'M0299X197RUS']"
   ]
  },
  {
   "cell_type": "markdown",
   "id": "d40c7323",
   "metadata": {},
   "source": [
    "## Установим CarNumber индекс в вашем фрейме данных с помощью CarNumber"
   ]
  },
  {
   "cell_type": "code",
   "execution_count": 10,
   "id": "be78df9f",
   "metadata": {},
   "outputs": [],
   "source": [
    "df1 = df.set_index('CarNumber')"
   ]
  },
  {
   "cell_type": "markdown",
   "id": "c224a31b",
   "metadata": {},
   "source": [
    "## Снова получим строку для того же CarNumber"
   ]
  },
  {
   "cell_type": "code",
   "execution_count": 11,
   "id": "695bd334",
   "metadata": {},
   "outputs": [
    {
     "name": "stdout",
     "output_type": "stream",
     "text": [
      "CPU times: user 1.58 ms, sys: 634 µs, total: 2.22 ms\n",
      "Wall time: 1.67 ms\n"
     ]
    },
    {
     "data": {
      "text/html": [
       "<div>\n",
       "<style scoped>\n",
       "    .dataframe tbody tr th:only-of-type {\n",
       "        vertical-align: middle;\n",
       "    }\n",
       "\n",
       "    .dataframe tbody tr th {\n",
       "        vertical-align: top;\n",
       "    }\n",
       "\n",
       "    .dataframe thead th {\n",
       "        text-align: right;\n",
       "    }\n",
       "</style>\n",
       "<table border=\"1\" class=\"dataframe\">\n",
       "  <thead>\n",
       "    <tr style=\"text-align: right;\">\n",
       "      <th></th>\n",
       "      <th>Refund</th>\n",
       "      <th>Fines</th>\n",
       "      <th>Make</th>\n",
       "      <th>Model</th>\n",
       "      <th>Year</th>\n",
       "      <th>Fines / Refund * Year</th>\n",
       "    </tr>\n",
       "    <tr>\n",
       "      <th>CarNumber</th>\n",
       "      <th></th>\n",
       "      <th></th>\n",
       "      <th></th>\n",
       "      <th></th>\n",
       "      <th></th>\n",
       "      <th></th>\n",
       "    </tr>\n",
       "  </thead>\n",
       "  <tbody>\n",
       "    <tr>\n",
       "      <th>M0299X197RUS</th>\n",
       "      <td>2</td>\n",
       "      <td>67200.0</td>\n",
       "      <td>Ford</td>\n",
       "      <td>Focus</td>\n",
       "      <td>1995</td>\n",
       "      <td>16.842105</td>\n",
       "    </tr>\n",
       "    <tr>\n",
       "      <th>M0299X197RUS</th>\n",
       "      <td>2</td>\n",
       "      <td>19200.0</td>\n",
       "      <td>Ford</td>\n",
       "      <td>Focus</td>\n",
       "      <td>2005</td>\n",
       "      <td>4.788030</td>\n",
       "    </tr>\n",
       "    <tr>\n",
       "      <th>M0299X197RUS</th>\n",
       "      <td>1</td>\n",
       "      <td>9600.0</td>\n",
       "      <td>Ford</td>\n",
       "      <td>Focus</td>\n",
       "      <td>2007</td>\n",
       "      <td>4.783259</td>\n",
       "    </tr>\n",
       "    <tr>\n",
       "      <th>M0299X197RUS</th>\n",
       "      <td>2</td>\n",
       "      <td>3000.0</td>\n",
       "      <td>Ford</td>\n",
       "      <td>Focus</td>\n",
       "      <td>1989</td>\n",
       "      <td>0.754148</td>\n",
       "    </tr>\n",
       "  </tbody>\n",
       "</table>\n",
       "</div>"
      ],
      "text/plain": [
       "              Refund    Fines  Make  Model  Year  Fines / Refund * Year\n",
       "CarNumber                                                              \n",
       "M0299X197RUS       2  67200.0  Ford  Focus  1995              16.842105\n",
       "M0299X197RUS       2  19200.0  Ford  Focus  2005               4.788030\n",
       "M0299X197RUS       1   9600.0  Ford  Focus  2007               4.783259\n",
       "M0299X197RUS       2   3000.0  Ford  Focus  1989               0.754148"
      ]
     },
     "execution_count": 11,
     "metadata": {},
     "output_type": "execute_result"
    }
   ],
   "source": [
    "%%time\n",
    "df1.loc['M0299X197RUS']"
   ]
  },
  {
   "cell_type": "markdown",
   "id": "36f20bc9",
   "metadata": {},
   "source": [
    "## Понижение разряда числовых переменных"
   ]
  },
  {
   "cell_type": "code",
   "execution_count": 12,
   "id": "aeec2bd5",
   "metadata": {},
   "outputs": [
    {
     "name": "stdout",
     "output_type": "stream",
     "text": [
      "<class 'pandas.core.frame.DataFrame'>\n",
      "RangeIndex: 935 entries, 0 to 934\n",
      "Data columns (total 7 columns):\n",
      " #   Column                 Non-Null Count  Dtype  \n",
      "---  ------                 --------------  -----  \n",
      " 0   CarNumber              925 non-null    object \n",
      " 1   Refund                 935 non-null    int64  \n",
      " 2   Fines                  935 non-null    float64\n",
      " 3   Make                   935 non-null    object \n",
      " 4   Model                  924 non-null    object \n",
      " 5   Year                   935 non-null    int64  \n",
      " 6   Fines / Refund * Year  935 non-null    float64\n",
      "dtypes: float64(2), int64(2), object(3)\n",
      "memory usage: 204.6 KB\n"
     ]
    }
   ],
   "source": [
    "df.info(memory_usage='deep')"
   ]
  },
  {
   "cell_type": "markdown",
   "id": "6dea980e",
   "metadata": {},
   "source": [
    "## Создадим оптимизированный датафрейм из исходного. Для этого:\n",
    "\n",
    "### понизим от float64 до float32 для всех столбцов\n",
    "\n",
    "### понизим от int64 до наименьшего числового возможного dtype"
   ]
  },
  {
   "cell_type": "code",
   "execution_count": 13,
   "id": "519132b2",
   "metadata": {},
   "outputs": [],
   "source": [
    "df_optimized = df.copy()\n",
    "df_optimized['Fines'] = pd.to_numeric(df_optimized['Fines'], downcast='float')\n",
    "df_optimized['Refund'] = pd.to_numeric(df_optimized['Refund'], downcast='integer')\n",
    "df_optimized['Year'] = pd.to_numeric(df_optimized['Year'], downcast='integer')"
   ]
  },
  {
   "cell_type": "code",
   "execution_count": 14,
   "id": "e254421c",
   "metadata": {},
   "outputs": [
    {
     "name": "stdout",
     "output_type": "stream",
     "text": [
      "<class 'pandas.core.frame.DataFrame'>\n",
      "RangeIndex: 935 entries, 0 to 934\n",
      "Data columns (total 7 columns):\n",
      " #   Column                 Non-Null Count  Dtype  \n",
      "---  ------                 --------------  -----  \n",
      " 0   CarNumber              925 non-null    object \n",
      " 1   Refund                 935 non-null    int8   \n",
      " 2   Fines                  935 non-null    float32\n",
      " 3   Make                   935 non-null    object \n",
      " 4   Model                  924 non-null    object \n",
      " 5   Year                   935 non-null    int16  \n",
      " 6   Fines / Refund * Year  935 non-null    float64\n",
      "dtypes: float32(1), float64(1), int16(1), int8(1), object(3)\n",
      "memory usage: 189.0 KB\n"
     ]
    }
   ],
   "source": [
    "df_optimized.info(memory_usage='deep')"
   ]
  },
  {
   "cell_type": "markdown",
   "id": "484549d1",
   "metadata": {},
   "source": [
    "## Категории"
   ]
  },
  {
   "cell_type": "code",
   "execution_count": 15,
   "id": "3e652cb3",
   "metadata": {},
   "outputs": [],
   "source": [
    "df_optimized['Make'] = df_optimized['Make'].astype('category')\n",
    "df_optimized['Model'] = df_optimized['Model'].astype('category')"
   ]
  },
  {
   "cell_type": "code",
   "execution_count": 16,
   "id": "9bd3d637",
   "metadata": {},
   "outputs": [
    {
     "name": "stdout",
     "output_type": "stream",
     "text": [
      "<class 'pandas.core.frame.DataFrame'>\n",
      "RangeIndex: 935 entries, 0 to 934\n",
      "Data columns (total 7 columns):\n",
      " #   Column                 Non-Null Count  Dtype   \n",
      "---  ------                 --------------  -----   \n",
      " 0   CarNumber              925 non-null    object  \n",
      " 1   Refund                 935 non-null    int8    \n",
      " 2   Fines                  935 non-null    float32 \n",
      " 3   Make                   935 non-null    category\n",
      " 4   Model                  924 non-null    category\n",
      " 5   Year                   935 non-null    int16   \n",
      " 6   Fines / Refund * Year  935 non-null    float64 \n",
      "dtypes: category(2), float32(1), float64(1), int16(1), int8(1), object(1)\n",
      "memory usage: 79.7 KB\n"
     ]
    }
   ],
   "source": [
    "df_optimized.info(memory_usage='deep')"
   ]
  },
  {
   "cell_type": "markdown",
   "id": "a9bc9bea",
   "metadata": {},
   "source": [
    "## Видим, что объем занимаемой памяти уменьшился более, чем в два раза"
   ]
  },
  {
   "cell_type": "markdown",
   "id": "0e51fa5d",
   "metadata": {},
   "source": [
    "## Очистим память от исходного датафрейма"
   ]
  },
  {
   "cell_type": "code",
   "execution_count": 17,
   "id": "d70e6e07",
   "metadata": {},
   "outputs": [],
   "source": [
    "%reset_selective -f df"
   ]
  },
  {
   "cell_type": "code",
   "execution_count": 18,
   "id": "cc2a621d",
   "metadata": {},
   "outputs": [
    {
     "ename": "NameError",
     "evalue": "name 'df' is not defined",
     "output_type": "error",
     "traceback": [
      "\u001b[0;31m---------------------------------------------------------------------------\u001b[0m",
      "\u001b[0;31mNameError\u001b[0m                                 Traceback (most recent call last)",
      "Cell \u001b[0;32mIn [18], line 1\u001b[0m\n\u001b[0;32m----> 1\u001b[0m \u001b[43mdf\u001b[49m\n",
      "\u001b[0;31mNameError\u001b[0m: name 'df' is not defined"
     ]
    }
   ],
   "source": [
    "df"
   ]
  },
  {
   "cell_type": "markdown",
   "id": "ba2f578f",
   "metadata": {},
   "source": [
    "## Видим, что память очистилась"
   ]
  }
 ],
 "metadata": {
  "kernelspec": {
   "display_name": "Python 3 (ipykernel)",
   "language": "python",
   "name": "python3"
  },
  "language_info": {
   "codemirror_mode": {
    "name": "ipython",
    "version": 3
   },
   "file_extension": ".py",
   "mimetype": "text/x-python",
   "name": "python",
   "nbconvert_exporter": "python",
   "pygments_lexer": "ipython3",
   "version": "3.9.10"
  }
 },
 "nbformat": 4,
 "nbformat_minor": 5
}
